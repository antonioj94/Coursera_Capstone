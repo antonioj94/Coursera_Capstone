{
    "nbformat_minor": 1, 
    "cells": [
        {
            "source": "<h1> Adding the coordinates of each neighbourhood</h1>", 
            "cell_type": "markdown", 
            "metadata": {
                "collapsed": true
            }
        }, 
        {
            "source": "We start by creating the dataset from the neighbourhoods with the previous structure", 
            "cell_type": "markdown", 
            "metadata": {}
        }, 
        {
            "execution_count": 1, 
            "cell_type": "code", 
            "metadata": {}, 
            "outputs": [
                {
                    "execution_count": 1, 
                    "metadata": {}, 
                    "data": {
                        "text/html": "<div>\n<style scoped>\n    .dataframe tbody tr th:only-of-type {\n        vertical-align: middle;\n    }\n\n    .dataframe tbody tr th {\n        vertical-align: top;\n    }\n\n    .dataframe thead th {\n        text-align: right;\n    }\n</style>\n<table border=\"1\" class=\"dataframe\">\n  <thead>\n    <tr style=\"text-align: right;\">\n      <th></th>\n      <th>Postcode</th>\n      <th>Borough</th>\n      <th>Neighbourhood</th>\n    </tr>\n  </thead>\n  <tbody>\n    <tr>\n      <th>0</th>\n      <td>M3A</td>\n      <td>North York</td>\n      <td>Parkwoods</td>\n    </tr>\n    <tr>\n      <th>1</th>\n      <td>M4A</td>\n      <td>North York</td>\n      <td>Victoria Village</td>\n    </tr>\n    <tr>\n      <th>2</th>\n      <td>M5A</td>\n      <td>Downtown Toronto</td>\n      <td>Harbourfront,Regent Park</td>\n    </tr>\n    <tr>\n      <th>3</th>\n      <td>M5A</td>\n      <td>Downtown Toronto</td>\n      <td>Harbourfront,Regent Park</td>\n    </tr>\n    <tr>\n      <th>4</th>\n      <td>M6A</td>\n      <td>North York</td>\n      <td>Lawrence Heights,Lawrence Manor</td>\n    </tr>\n  </tbody>\n</table>\n</div>", 
                        "text/plain": "  Postcode           Borough                    Neighbourhood\n0      M3A        North York                        Parkwoods\n1      M4A        North York                 Victoria Village\n2      M5A  Downtown Toronto         Harbourfront,Regent Park\n3      M5A  Downtown Toronto         Harbourfront,Regent Park\n4      M6A        North York  Lawrence Heights,Lawrence Manor"
                    }, 
                    "output_type": "execute_result"
                }
            ], 
            "source": "from requests import get\nimport pandas as pd\nfrom bs4 import BeautifulSoup\n\nurl = 'https://en.wikipedia.org/wiki/List_of_postal_codes_of_Canada:_M'\nresponse = get(url)\nhtml_soup = BeautifulSoup(response.text, 'html.parser')\ntable = html_soup.find('table', {'class': 'wikitable sortable'})\ntable_rows = table.find_all('tr')\ntable_columns = table.find_all('th')\ntype(table_columns)\n#Get columns name\nc = []\nfor th in table_columns:\n    text = th.text.replace('\\n', '')\n    c.append(text)\n    \n#Get rows\nr = []\nfor tr in table_rows:\n    td = tr.find_all('td')\n    row = [tr.text for tr in td]\n    if(row == []):\n        continue\n    row = [element.strip('\\n') for element in row]\n    r.append(row)\n\ndf = pd.DataFrame(r, columns=c)\ndf = df[df['Borough'] != 'Not assigned']\nfor i,row in df.iterrows():\n    if (row['Neighbourhood'] == 'Not assigned'):\n        row['Neighbourhood'] = row['Borough']\ndf_aux = df[['Postcode', 'Borough', 'Neighbourhood']]\ndf_aux = df_aux.groupby('Postcode')['Neighbourhood'].apply(','.join).reset_index()\n\ndf = pd.merge(df, df_aux, on=['Postcode'], how='inner')\ndf = df[['Postcode','Borough','Neighbourhood_y']]\ndf=df.rename(columns = {'Neighbourhood_y':'Neighbourhood'})\ndf[:5]"
        }, 
        {
            "source": "Get the coordinates from the csv, geocoder was not working", 
            "cell_type": "markdown", 
            "metadata": {}
        }, 
        {
            "execution_count": 4, 
            "cell_type": "code", 
            "metadata": {}, 
            "outputs": [], 
            "source": "geo_data = pd.read_csv(\"https://cocl.us/Geospatial_data\") "
        }, 
        {
            "source": "Join the coordinates ", 
            "cell_type": "markdown", 
            "metadata": {}
        }, 
        {
            "execution_count": null, 
            "cell_type": "code", 
            "metadata": {}, 
            "outputs": [], 
            "source": "geo_data=geo_data.rename(columns = {'Postal Code':'Postcode'})\ndf = pd.merge(df, geo_data, on=['Postcode'], how='inner')"
        }
    ], 
    "metadata": {
        "kernelspec": {
            "display_name": "Python 3.5", 
            "name": "python3", 
            "language": "python"
        }, 
        "language_info": {
            "mimetype": "text/x-python", 
            "nbconvert_exporter": "python", 
            "version": "3.5.5", 
            "name": "python", 
            "file_extension": ".py", 
            "pygments_lexer": "ipython3", 
            "codemirror_mode": {
                "version": 3, 
                "name": "ipython"
            }
        }
    }, 
    "nbformat": 4
}