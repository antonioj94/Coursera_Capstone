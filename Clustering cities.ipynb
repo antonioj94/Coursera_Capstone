{
    "nbformat_minor": 1, 
    "cells": [
        {
            "source": "# Exploring cities around Europe ", 
            "cell_type": "markdown", 
            "metadata": {
                "collapsed": true
            }
        }, 
        {
            "source": "## 1. Introduction", 
            "cell_type": "markdown", 
            "metadata": {}
        }, 
        {
            "source": "### 1.1 Description ", 
            "cell_type": "markdown", 
            "metadata": {}
        }, 
        {
            "source": "As everybody else, at some point, I started thinking about cities where I would enjoy living in. In my case, those thoughts came to my mind after I finished my Computer Engineering studies in Alicante (a beautiful and sunny city in the south-east of Spain). Thanks to the many posibilities for exchanges and internships that the University of Alicante gave me, I have gained some ideas about what is important to think about when you are planning about moving to a new city. \n\nIn this project, we will take into account only countries in the European Union. The EU is a unique economic and political union between 28 EU countries that together cover much of the continent. It was created in 1958 and since then It has eliminated borders between the belonged countries, facilitating live, work and travelling abroad in Europe. Also, It created the Euro, a single currency which it mission is to stabilize the economy and help to get equality between the countries. \n\nBut, of course, all these cities are very different between them, total population, culture, yearly sunny hours, language, average salary and working hours are some of the factors that completely change how is to live in a city. We will cluster by how similar they are in comparison to each other.", 
            "cell_type": "markdown", 
            "metadata": {}
        }, 
        {
            "source": "### 1.2 Data descrition", 
            "cell_type": "markdown", 
            "metadata": {}
        }, 
        {
            "source": "Classify a city can be very complicated and forces to get a lot of data from different sources:\n\n- We will get the cities with it population and countries from wikipedia: \nhttps://en.wikipedia.org/wiki/List_of_cities_in_the_European_Union_by_population_within_city_limits\n\n- From Foursquare API, we will extract relevant information about venues of each city.\n\n- Openweathermap API will provide us with the historical information about the weather in each city\n\n- To get the coordinates of each city, we will use opencagedata API.", 
            "cell_type": "markdown", 
            "metadata": {}
        }
    ], 
    "metadata": {
        "kernelspec": {
            "display_name": "Python 3.5", 
            "name": "python3", 
            "language": "python"
        }, 
        "language_info": {
            "mimetype": "text/x-python", 
            "nbconvert_exporter": "python", 
            "version": "3.5.5", 
            "name": "python", 
            "file_extension": ".py", 
            "pygments_lexer": "ipython3", 
            "codemirror_mode": {
                "version": 3, 
                "name": "ipython"
            }
        }
    }, 
    "nbformat": 4
}