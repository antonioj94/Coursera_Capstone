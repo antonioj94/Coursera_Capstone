{
    "nbformat_minor": 1, 
    "cells": [
        {
            "source": "# Exploring cities around Europe ", 
            "cell_type": "markdown", 
            "metadata": {
                "collapsed": true
            }
        }, 
        {
            "source": "## 1. Introduction", 
            "cell_type": "markdown", 
            "metadata": {}
        }, 
        {
            "source": "### 1.1 Description ", 
            "cell_type": "markdown", 
            "metadata": {}
        }, 
        {
            "source": "As everybody else, at some point, I started thinking about cities where I would enjoy living in. In my case, those thoughts came to my mind after I finished my Computer Engineering studies in Alicante (a beautiful and sunny city in the south-east of Spain). Thanks to the many posibilities for exchanges and internships that the University of Alicante gave me, I have gained some ideas about what is important to think about when you are planning about moving to a new city. \n\nIn this project, we will take into account only countries in the European Union. The EU is a unique economic and political union between 28 EU countries that together cover much of the continent. It was created in 1958 and since then It has eliminated borders between the belonged countries, facilitating live, work and travelling abroad in Europe. Also, It created the Euro, a single currency which it mission is to stabilize the economy and help to get equality between the countries. \n\nBut, of course, all these cities are very different between them, total population, culture, yearly sunny hours, language, average salary and working hours are some of the factors that completely change how is to live in a city. We will cluster by how similar they are in comparison to each other.", 
            "cell_type": "markdown", 
            "metadata": {}
        }, 
        {
            "source": "### 1.2 Data descrition", 
            "cell_type": "markdown", 
            "metadata": {}
        }, 
        {
            "source": "Classify a city can be very complicated and forces to get a lot of data from different sources:\n\n- We will get the cities with it population and countries from wikipedia: https://en.wikipedia.org/wiki/List_of_cities_in_the_European_Union_by_population_within_city_limits\n\n- From Foursquare API, we will extract relevant information about venues of each city.\n\n- Openweathermap API will provide us with the historical information about the weather in each city\n\n- To get the coordinates of each city, we will use opencagedata API.", 
            "cell_type": "markdown", 
            "metadata": {}
        }, 
        {
            "source": "### Future Improvements", 
            "cell_type": "markdown", 
            "metadata": {}
        }, 
        {
            "source": "- Add schengen zone\n- Polution levels\n- Number of job positions for xx studies\n- Metropolitan area\n- average salary\n- average cost of living\n- Transportation", 
            "cell_type": "markdown", 
            "metadata": {}
        }, 
        {
            "source": "from requests import get\nimport pandas as pd\nfrom bs4 import BeautifulSoup\n\nurl = 'https://en.wikipedia.org/wiki/List_of_cities_in_the_European_Union_by_population_within_city_limits'\nresponse = get(url)\nhtml_soup = BeautifulSoup(response.text, 'html.parser')\ntable = html_soup.find('table', {'class': 'wikitable sortable'})\ntable_rows = table.find_all('tr')\ntable_columns = table.find_all('th')", 
            "cell_type": "code", 
            "metadata": {}, 
            "outputs": [
                {
                    "output_type": "execute_result", 
                    "data": {
                        "text/plain": "bs4.element.ResultSet"
                    }, 
                    "execution_count": 1, 
                    "metadata": {}
                }
            ], 
            "execution_count": 1
        }, 
        {
            "source": "c = []\nfor th in table_columns:\n    text = th.text.replace('\\n', '')\n    c.append(text)\n\nr = []\nfor tr in table_rows:\n    td = tr.find_all('td')\n    row = [tr.text for tr in td]\n    if(row == []):\n        continue\n    row = [element.strip('\\n') for element in row]\n    r.append(row)\nlen(r)", 
            "cell_type": "code", 
            "metadata": {}, 
            "outputs": [
                {
                    "output_type": "execute_result", 
                    "data": {
                        "text/plain": "110"
                    }, 
                    "execution_count": 10, 
                    "metadata": {}
                }
            ], 
            "execution_count": 10
        }, 
        {
            "source": "#Get columns name\nc = []\nfor th in table_columns:\n    text = th.text.replace('\\n', '')\n    c.append(text)\n    \n#Get rows\nr = []\nfor tr in table_rows:\n    td = tr.find_all('td')\n    row = [tr.text for tr in td]\n    if(row == []):\n        continue\n    row = [element.strip('\\n') for element in row]\n    r.append(row)\n\ndf = pd.DataFrame(r, columns=c)\ndf = df[df['Borough'] != 'Not assigned']\nfor i,row in df.iterrows():\n    if (row['Neighbourhood'] == 'Not assigned'):\n        row['Neighbourhood'] = row['Borough']\ndf_aux = df[['Postcode', 'Borough', 'Neighbourhood']]\ndf_aux = df_aux.groupby('Postcode')['Neighbourhood'].apply(','.join).reset_index()\n\ndf = pd.merge(df, df_aux, on=['Postcode'], how='inner')\ndf = df[['Postcode','Borough','Neighbourhood_y']]\ndf=df.rename(columns = {'Neighbourhood_y':'Neighbourhood'})\ndf = df.drop_duplicates(subset=['Postcode'], keep='first')\n\ngeo_data = pd.read_csv(\"https://cocl.us/Geospatial_data\") \ngeo_data=geo_data.rename(columns = {'Postal Code':'Postcode'})\ndf = pd.merge(df, geo_data, on=['Postcode'], how='inner')\n\nprint('There are {} Postal Codes.'.format(df.shape[0]))", 
            "cell_type": "code", 
            "metadata": {}, 
            "outputs": [], 
            "execution_count": null
        }
    ], 
    "metadata": {
        "kernelspec": {
            "display_name": "Python 3.5", 
            "name": "python3", 
            "language": "python"
        }, 
        "language_info": {
            "mimetype": "text/x-python", 
            "nbconvert_exporter": "python", 
            "version": "3.5.5", 
            "name": "python", 
            "file_extension": ".py", 
            "pygments_lexer": "ipython3", 
            "codemirror_mode": {
                "version": 3, 
                "name": "ipython"
            }
        }
    }, 
    "nbformat": 4
}